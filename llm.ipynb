{
 "cells": [
  {
   "cell_type": "code",
   "execution_count": 3,
   "id": "c06ccc96",
   "metadata": {},
   "outputs": [],
   "source": [
    "#IMPORTANT LIB\n",
    "import streamlit as st\n",
    "import sentencepiece\n",
    "from langchain.text_splitter import RecursiveCharacterTextSplitter\n",
    "from langchain.document_loaders import PyPDFLoader, DirectoryLoader\n",
    "from langchain.chains.summarize import load_summarize_chain  \n",
    "from transformers import T5Tokenizer, T5ForConditionalGeneration, pipeline, AutoTokenizer, AutoModelForSeq2SeqLM\n",
    "import torch\n",
    "import base64 \n",
    "import importlib\n",
    "import subprocess\n",
    "import sys\n",
    "from streamlit_jupyter import StreamlitPatcher, tqdm"
   ]
  },
  {
   "cell_type": "code",
   "execution_count": 4,
   "id": "225fb0b9",
   "metadata": {},
   "outputs": [
    {
     "name": "stderr",
     "output_type": "stream",
     "text": [
      "Device set to use cpu\n"
     ]
    }
   ],
   "source": [
    "#FILE LOADER AND PREPROCESSING\n",
    "StreamlitPatcher().jupyter()\n",
    "summarizer = pipeline(\"summarization\", model=\"MBZUAI/LaMini-Flan-T5-248M\")\n",
    "\n",
    "# If you also need tokenizer and model explicitly:\n",
    "tokenizer = AutoTokenizer.from_pretrained(\"MBZUAI/LaMini-Flan-T5-248M\")\n",
    "model = AutoModelForSeq2SeqLM.from_pretrained(\"MBZUAI/LaMini-Flan-T5-248M\")\n",
    "\n",
    "def file_preprocessing(file):\n",
    "    loader = PyPDFLoader(file)\n",
    "    pages = loader.load_and_split()\n",
    "    text_splitter = RecursiveCharacterTextSplitter(chunk_size=200, chunk_overlap=50)\n",
    "    texts = text_splitter.split_documents(pages)\n",
    "    final_text = \"\"\n",
    "    for text in texts:\n",
    "        print(text)\n",
    "        final_text = final_text + text.page_content\n",
    "    return final_text"
   ]
  },
  {
   "cell_type": "code",
   "execution_count": 5,
   "id": "a8af3c4b",
   "metadata": {},
   "outputs": [],
   "source": [
    "#LLM PIPELINE\n",
    "def llm_pipeline(filepath):\n",
    "    pipe_sum = pipeline(\n",
    "        'summerization',\n",
    "        model = model,\n",
    "        tokernzier = tokenizer,\n",
    "        max_length = 500,\n",
    "        min_length = 50,\n",
    "    )\n",
    "    input_text = file_preprocessing(filepath)\n",
    "    result = pipe_sum(input_text)\n",
    "    result = result[0]['summary_text']\n",
    "    return result"
   ]
  },
  {
   "cell_type": "code",
   "execution_count": null,
   "id": "9d9482b8",
   "metadata": {},
   "outputs": [
    {
     "name": "stderr",
     "output_type": "stream",
     "text": [
      "2025-08-16 10:52:23.128 WARNING streamlit.runtime.caching.cache_data_api: No runtime found, using MemoryCacheStorageManager\n",
      "2025-08-16 10:52:23.131 WARNING streamlit.runtime.scriptrunner_utils.script_run_context: Thread 'MainThread': missing ScriptRunContext! This warning can be ignored when running in bare mode.\n"
     ]
    }
   ],
   "source": [
    "#STREAMLIT CODE UI/UX\n",
    "@st.cache_data\n",
    "def display_PDF(file):\n",
    "    with open(file, \"rb\") as f:\n",
    "        base64_pdf = base64.b64decode(f.read().decode('utf-8'))\n",
    "\n",
    "    pdf_display = F'<ifram src=\"data:application/pdf;base64,{base64_pdf}\" width=\"100%\" height=\"600\" type=\"application/pdf\"></iframe>'\n",
    "    st.markdown(pdf_display, unsafe_allow_html=True)\n",
    "st.set_page_config(layout='wide', page_title='Summerization App')\n",
    "\n",
    "def main():\n",
    "    st.title('Document Classification using LLM')\n",
    "    uploaded_file = st.file_uploader(\"Upload your PDF\", type=['pdf'])\n",
    "\n",
    "    if uploaded_file is not None:\n",
    "        if st.button(\"Summerize\"):\n",
    "            col1, col2 = st.columns(2)\n",
    "            filepath = \"Data_PDF/\"+uploaded_file.name\n",
    "            with open(filepath, 'wb') as temp_file:\n",
    "                temp_file.write(uploaded_file.read())\n",
    "            with col1:\n",
    "                st.info(\"Uploaded PDF file\")\n",
    "                pdf_viewer = display_PDF(filepath)\n",
    "            with col2:\n",
    "                st.info(\"Summerization is below\")    \n",
    "\n",
    "                summary = llm_pipeline(filepath)\n",
    "                st.success(summary)"
   ]
  },
  {
   "cell_type": "code",
   "execution_count": 7,
   "id": "ca2a4be8",
   "metadata": {},
   "outputs": [
    {
     "name": "stderr",
     "output_type": "stream",
     "text": [
      "2025-08-16 10:52:23.152 WARNING streamlit.runtime.scriptrunner_utils.script_run_context: Thread 'MainThread': missing ScriptRunContext! This warning can be ignored when running in bare mode.\n",
      "2025-08-16 10:52:23.349 \n",
      "  \u001b[33m\u001b[1mWarning:\u001b[0m to view this Streamlit app on a browser, run it with the following\n",
      "  command:\n",
      "\n",
      "    streamlit run c:\\Users\\Asus\\OneDrive\\Desktop\\Shaily\\.venv\\Lib\\site-packages\\ipykernel_launcher.py [ARGUMENTS]\n",
      "2025-08-16 10:52:23.350 Thread 'MainThread': missing ScriptRunContext! This warning can be ignored when running in bare mode.\n",
      "2025-08-16 10:52:23.351 Thread 'MainThread': missing ScriptRunContext! This warning can be ignored when running in bare mode.\n",
      "2025-08-16 10:52:23.352 Thread 'MainThread': missing ScriptRunContext! This warning can be ignored when running in bare mode.\n",
      "2025-08-16 10:52:23.353 Thread 'MainThread': missing ScriptRunContext! This warning can be ignored when running in bare mode.\n",
      "2025-08-16 10:52:23.355 Thread 'MainThread': missing ScriptRunContext! This warning can be ignored when running in bare mode.\n",
      "2025-08-16 10:52:23.356 Thread 'MainThread': missing ScriptRunContext! This warning can be ignored when running in bare mode.\n",
      "2025-08-16 10:52:23.357 Thread 'MainThread': missing ScriptRunContext! This warning can be ignored when running in bare mode.\n",
      "2025-08-16 10:52:23.358 Thread 'MainThread': missing ScriptRunContext! This warning can be ignored when running in bare mode.\n"
     ]
    }
   ],
   "source": [
    "if __name__ == '__main__':\n",
    "    main()"
   ]
  }
 ],
 "metadata": {
  "kernelspec": {
   "display_name": ".venv",
   "language": "python",
   "name": "python3"
  },
  "language_info": {
   "codemirror_mode": {
    "name": "ipython",
    "version": 3
   },
   "file_extension": ".py",
   "mimetype": "text/x-python",
   "name": "python",
   "nbconvert_exporter": "python",
   "pygments_lexer": "ipython3",
   "version": "3.13.7"
  }
 },
 "nbformat": 4,
 "nbformat_minor": 5
}
