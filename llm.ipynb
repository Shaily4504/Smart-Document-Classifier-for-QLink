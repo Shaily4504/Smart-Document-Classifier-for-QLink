{
 "cells": [
  {
   "cell_type": "code",
   "execution_count": null,
   "id": "c06ccc96",
   "metadata": {},
   "outputs": [],
   "source": [
    "from transformers import pipeline\n",
    "classifier = pipeline(\"sentiment-analysis\")    \n",
    "res = classifier(\"Always Waiting for you huggingface\")\n",
    "print(res) \n",
    "  "
   ]
  },
  {
   "cell_type": "code",
   "execution_count": null,
   "id": "28542627",
   "metadata": {},
   "outputs": [],
   "source": []
  }
 ],
 "metadata": {
  "language_info": {
   "name": "python"
  }
 },
 "nbformat": 4,
 "nbformat_minor": 5
}
