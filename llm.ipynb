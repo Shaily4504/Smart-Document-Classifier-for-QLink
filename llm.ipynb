{
 "cells": [
  {
   "cell_type": "code",
   "execution_count": 3,
   "id": "c06ccc96",
   "metadata": {},
   "outputs": [],
   "source": [
    "#IMPORTANT LIB\n",
    "import streamlit as st\n",
    "from langchain.text_splitter import RecursiveCharacterTextSplitter\n",
    "from langchain.document_loaders import PyPDFLoader, DirectoryLoader\n",
    "from langchain.chains.summarize import load_summarize_chain  \n",
    "from transformers import T5Tokenizer, T5ForConditionalGeneration  \n",
    "from transformers import pipeline\n",
    "import base64 "
   ]
  },
  {
   "cell_type": "code",
   "execution_count": null,
   "id": "225fb0b9",
   "metadata": {},
   "outputs": [
    {
     "ename": "SyntaxError",
     "evalue": "invalid syntax (2228056753.py, line 10)",
     "output_type": "error",
     "traceback": [
      "  \u001b[36mCell\u001b[39m\u001b[36m \u001b[39m\u001b[32mIn[1]\u001b[39m\u001b[32m, line 10\u001b[39m\n\u001b[31m    \u001b[39m\u001b[31mfinal_text =\u001b[39m\n                 ^\n\u001b[31mSyntaxError\u001b[39m\u001b[31m:\u001b[39m invalid syntax\n"
     ]
    }
   ],
   "source": [
    "#FILE LOADER AND PREPROCESSING\n",
    "model_name = \"MBZUAI/LaMini-Flan-T5-248M\"    \n",
    "tokernzier = T5Tokenizer.from_pretrained(model_name)\n",
    "base_model = T5ForConditionalGeneration.from_pretrained(model_name, device_map = 'auto', torch_dtype = torch.float32)   \n",
    "\n",
    "def file_preprocessing(file):\n",
    "    loader = PyPDFLoader(file)\n",
    "    pages = loader.load_and_split()\n",
    "    text_splitter = RecursiveCharacterTextSplitter(chunk_size=200, chunk_overlap=50)\n",
    "    texts = text_splitter.split_documents(pages)\n",
    "    final_text = \"\"\n",
    "    for text in texts:\n",
    "        print(text)\n",
    "        final_text = final_text + text.page_content\n",
    "    return final_text"
   ]
  },
  {
   "cell_type": "code",
   "execution_count": null,
   "id": "a8af3c4b",
   "metadata": {},
   "outputs": [],
   "source": [
    "#LLM PIPELINE\n",
    "def llm_pipeline(filepath):\n",
    "    pipe_sum = pipeline(\n",
    "        'summerization',\n",
    "        model = base_model,\n",
    "        tokernzier = tokernzier,\n",
    "        max_length = 500,\n",
    "        min_length = 50,\n",
    "    )\n",
    "    input_text = file_preprocessing(filepath)\n",
    "    result = pipe_sum(input_text)\n",
    "    result = result[0]['summary_text']\n",
    "    return result"
   ]
  },
  {
   "cell_type": "code",
   "execution_count": null,
   "id": "9d9482b8",
   "metadata": {},
   "outputs": [],
   "source": [
    "#STREAMLIT CODE UI/UX\n",
    "@st.cache_data\n",
    "def display_PDF(file):\n",
    "    with open(file, \"rb\") as f:\n",
    "        base64_pdf = base64.b64decode(f.read().decode('utf-8'))\n",
    "\n",
    "    pdf_display = F'<ifram src=\"data:application/pdf;base64,{base64_pdf}\" width=\"100%\" height=\"600\" type=\"application/pdf\"></iframe>'\n",
    "    st.markdown(pdf_display, unsafe_allow_html=True)\n",
    "\n",
    "st.set_page_config(layout='wide', page_title='Summerization App')\n",
    "\n",
    "def main():\n",
    "    st.title('Document Classification using LLM')\n",
    "    uploaded_file = st.file_uploader(\"Upload your PDF\", type=['pdf'])\n",
    "    if uploaded_file is not None:\n",
    "        if st.button(\"Summerization\"):\n",
    "            col1, col2 = st.columns(2)\n",
    "\n",
    "            with col1:\n",
    "                st.info(\"Uploaded PDF file\")\n",
    "            with col2:\n",
    "                st.info(\"Summerization is below\")    "
   ]
  },
  {
   "cell_type": "code",
   "execution_count": null,
   "id": "ca2a4be8",
   "metadata": {},
   "outputs": [],
   "source": [
    "if __name__ == '__main__':\n",
    "    main()"
   ]
  }
 ],
 "metadata": {
  "kernelspec": {
   "display_name": ".venv",
   "language": "python",
   "name": "python3"
  },
  "language_info": {
   "codemirror_mode": {
    "name": "ipython",
    "version": 3
   },
   "file_extension": ".py",
   "mimetype": "text/x-python",
   "name": "python",
   "nbconvert_exporter": "python",
   "pygments_lexer": "ipython3",
   "version": "3.13.7"
  }
 },
 "nbformat": 4,
 "nbformat_minor": 5
}
