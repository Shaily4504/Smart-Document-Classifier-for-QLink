{
 "cells": [
  {
   "cell_type": "code",
   "execution_count": 17,
   "id": "c06ccc96",
   "metadata": {},
   "outputs": [],
   "source": [
    "#IMPORTANT LIB\n",
    "import streamlit as st\n",
    "import sentencepiece\n",
    "from langchain.text_splitter import RecursiveCharacterTextSplitter\n",
    "from langchain.document_loaders import PyPDFLoader, DirectoryLoader\n",
    "from langchain.chains.summarize import load_summarize_chain  \n",
    "from transformers import T5Tokenizer, T5ForConditionalGeneration, pipeline, AutoTokenizer, AutoModelForSeq2SeqLM\n",
    "import torch\n",
    "import base64 \n",
    "import importlib\n",
    "import subprocess\n",
    "import sys"
   ]
  },
  {
   "cell_type": "code",
   "execution_count": 19,
   "id": "225fb0b9",
   "metadata": {},
   "outputs": [
    {
     "ename": "ImportError",
     "evalue": "\nAutoModelForSeq2SeqLM requires the PyTorch library but it was not found in your environment. Check out the instructions on the\ninstallation page: https://pytorch.org/get-started/locally/ and follow the ones that match your environment.\nPlease note that you may need to restart your runtime after installation.\n",
     "output_type": "error",
     "traceback": [
      "\u001b[31m---------------------------------------------------------------------------\u001b[39m",
      "\u001b[31mImportError\u001b[39m                               Traceback (most recent call last)",
      "\u001b[36mCell\u001b[39m\u001b[36m \u001b[39m\u001b[32mIn[19]\u001b[39m\u001b[32m, line 3\u001b[39m\n\u001b[32m      1\u001b[39m \u001b[38;5;66;03m#FILE LOADER AND PREPROCESSING\u001b[39;00m\n\u001b[32m      2\u001b[39m \u001b[38;5;66;03m#tokenizer = AutoTokenizer.from_pretrained(\"MBZUAI/LaMini-Flan-T5-248M\")\u001b[39;00m\n\u001b[32m----> \u001b[39m\u001b[32m3\u001b[39m model_name = \u001b[43mAutoModelForSeq2SeqLM\u001b[49m\u001b[43m.\u001b[49m\u001b[43mfrom_pretrained\u001b[49m(\u001b[33m\"\u001b[39m\u001b[33mMBZUAI/LaMini-Flan-T5-248M\u001b[39m\u001b[33m\"\u001b[39m)\n\u001b[32m      4\u001b[39m tokernzier = T5Tokenizer.from_pretrained(model_name)\n\u001b[32m      5\u001b[39m base_model = T5ForConditionalGeneration.from_pretrained(model_name, device_map = \u001b[33m'\u001b[39m\u001b[33mauto\u001b[39m\u001b[33m'\u001b[39m, torch_dtype = torch.float32)   \n",
      "\u001b[36mFile \u001b[39m\u001b[32mc:\\Users\\Asus\\OneDrive\\Desktop\\Shaily\\.venv\\Lib\\site-packages\\transformers\\utils\\import_utils.py:2132\u001b[39m, in \u001b[36mDummyObject.__getattribute__\u001b[39m\u001b[34m(cls, key)\u001b[39m\n\u001b[32m   2130\u001b[39m \u001b[38;5;28;01mif\u001b[39;00m (key.startswith(\u001b[33m\"\u001b[39m\u001b[33m_\u001b[39m\u001b[33m\"\u001b[39m) \u001b[38;5;129;01mand\u001b[39;00m key != \u001b[33m\"\u001b[39m\u001b[33m_from_config\u001b[39m\u001b[33m\"\u001b[39m) \u001b[38;5;129;01mor\u001b[39;00m key == \u001b[33m\"\u001b[39m\u001b[33mis_dummy\u001b[39m\u001b[33m\"\u001b[39m \u001b[38;5;129;01mor\u001b[39;00m key == \u001b[33m\"\u001b[39m\u001b[33mmro\u001b[39m\u001b[33m\"\u001b[39m \u001b[38;5;129;01mor\u001b[39;00m key == \u001b[33m\"\u001b[39m\u001b[33mcall\u001b[39m\u001b[33m\"\u001b[39m:\n\u001b[32m   2131\u001b[39m     \u001b[38;5;28;01mreturn\u001b[39;00m \u001b[38;5;28msuper\u001b[39m().\u001b[34m__getattribute__\u001b[39m(key)\n\u001b[32m-> \u001b[39m\u001b[32m2132\u001b[39m \u001b[43mrequires_backends\u001b[49m\u001b[43m(\u001b[49m\u001b[38;5;28;43mcls\u001b[39;49m\u001b[43m,\u001b[49m\u001b[43m \u001b[49m\u001b[38;5;28;43mcls\u001b[39;49m\u001b[43m.\u001b[49m\u001b[43m_backends\u001b[49m\u001b[43m)\u001b[49m\n",
      "\u001b[36mFile \u001b[39m\u001b[32mc:\\Users\\Asus\\OneDrive\\Desktop\\Shaily\\.venv\\Lib\\site-packages\\transformers\\utils\\import_utils.py:2118\u001b[39m, in \u001b[36mrequires_backends\u001b[39m\u001b[34m(obj, backends)\u001b[39m\n\u001b[32m   2115\u001b[39m         failed.append(msg.format(name))\n\u001b[32m   2117\u001b[39m \u001b[38;5;28;01mif\u001b[39;00m failed:\n\u001b[32m-> \u001b[39m\u001b[32m2118\u001b[39m     \u001b[38;5;28;01mraise\u001b[39;00m \u001b[38;5;167;01mImportError\u001b[39;00m(\u001b[33m\"\u001b[39m\u001b[33m\"\u001b[39m.join(failed))\n",
      "\u001b[31mImportError\u001b[39m: \nAutoModelForSeq2SeqLM requires the PyTorch library but it was not found in your environment. Check out the instructions on the\ninstallation page: https://pytorch.org/get-started/locally/ and follow the ones that match your environment.\nPlease note that you may need to restart your runtime after installation.\n"
     ]
    }
   ],
   "source": [
    "#FILE LOADER AND PREPROCESSING\n",
    "#tokenizer = AutoTokenizer.from_pretrained(\"MBZUAI/LaMini-Flan-T5-248M\")\n",
    "model_name = AutoModelForSeq2SeqLM.from_pretrained(\"MBZUAI/LaMini-Flan-T5-248M\")\n",
    "tokernzier = T5Tokenizer.from_pretrained(model_name)\n",
    "base_model = T5ForConditionalGeneration.from_pretrained(model_name, device_map = 'auto', torch_dtype = torch.float32)   \n",
    "\n",
    "def file_preprocessing(file):\n",
    "    loader = PyPDFLoader(file)\n",
    "    pages = loader.load_and_split()\n",
    "    text_splitter = RecursiveCharacterTextSplitter(chunk_size=200, chunk_overlap=50)\n",
    "    texts = text_splitter.split_documents(pages)\n",
    "    final_text = \"\"\n",
    "    for text in texts:\n",
    "        print(text)\n",
    "        final_text = final_text + text.page_content\n",
    "    return final_text"
   ]
  },
  {
   "cell_type": "code",
   "execution_count": null,
   "id": "a8af3c4b",
   "metadata": {},
   "outputs": [],
   "source": [
    "#LLM PIPELINE\n",
    "def llm_pipeline(filepath):\n",
    "    pipe_sum = pipeline(\n",
    "        'summerization',\n",
    "        model = base_model,\n",
    "        tokernzier = tokernzier,\n",
    "        max_length = 500,\n",
    "        min_length = 50,\n",
    "    )\n",
    "    input_text = file_preprocessing(filepath)\n",
    "    result = pipe_sum(input_text)\n",
    "    result = result[0]['summary_text']\n",
    "    return result"
   ]
  },
  {
   "cell_type": "code",
   "execution_count": null,
   "id": "9d9482b8",
   "metadata": {},
   "outputs": [],
   "source": [
    "#STREAMLIT CODE UI/UX\n",
    "@st.cache_data\n",
    "def display_PDF(file):\n",
    "    with open(file, \"rb\") as f:\n",
    "        base64_pdf = base64.b64decode(f.read().decode('utf-8'))\n",
    "\n",
    "    pdf_display = F'<ifram src=\"data:application/pdf;base64,{base64_pdf}\" width=\"100%\" height=\"600\" type=\"application/pdf\"></iframe>'\n",
    "    st.markdown(pdf_display, unsafe_allow_html=True)\n",
    "\n",
    "st.set_page_config(layout='wide', page_title='Summerization App')\n",
    "\n",
    "def main():\n",
    "    st.title('Document Classification using LLM')\n",
    "    uploaded_file = st.file_uploader(\"Upload your PDF\", type=['pdf'])\n",
    "    if uploaded_file is not None:\n",
    "        if st.button(\"Summerization\"):\n",
    "            col1, col2 = st.columns(2)\n",
    "\n",
    "            with col1:\n",
    "                st.info(\"Uploaded PDF file\")\n",
    "            with col2:\n",
    "                st.info(\"Summerization is below\")    "
   ]
  },
  {
   "cell_type": "code",
   "execution_count": null,
   "id": "ca2a4be8",
   "metadata": {},
   "outputs": [],
   "source": [
    "if __name__ == '__main__':\n",
    "    main()"
   ]
  }
 ],
 "metadata": {
  "kernelspec": {
   "display_name": ".venv",
   "language": "python",
   "name": "python3"
  },
  "language_info": {
   "codemirror_mode": {
    "name": "ipython",
    "version": 3
   },
   "file_extension": ".py",
   "mimetype": "text/x-python",
   "name": "python",
   "nbconvert_exporter": "python",
   "pygments_lexer": "ipython3",
   "version": "3.13.7"
  }
 },
 "nbformat": 4,
 "nbformat_minor": 5
}
