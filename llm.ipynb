{
 "cells": [
  {
   "cell_type": "code",
   "execution_count": null,
   "id": "c06ccc96",
   "metadata": {},
   "outputs": [],
   "source": [
    "import streamlite as sl\n",
    "from langchain.text_splitter import RecursiveCharacterTextSplitter\n",
    "from langchain.document_loaders import PyPDFLoader, DirectoryLoader\n",
    "from langchain.chains.summarize import load_summarize_chain \n",
    "from transformers import T5tokenizer, T5ForConditionalGeneration\n",
    "from transformers import pipeline\n",
    "import torch  \n",
    "import base64\n"
   ]
  },
  {
   "cell_type": "code",
   "execution_count": null,
   "id": "225fb0b9",
   "metadata": {},
   "outputs": [],
   "source": [
    "model_name = \"MBZUAI/LaMini-Flan-T5-248M\"   \n",
    "tokernzier = T5tokenizer.from_pretrained(model_name)\n",
    "base_model = T5ForConditionalGeneration.from_pretrained(model_name, device_map = 'auto', torch_dtype = torch.float32)   "
   ]
  }
 ],
 "metadata": {
  "kernelspec": {
   "display_name": ".venv",
   "language": "python",
   "name": "python3"
  },
  "language_info": {
   "name": "python",
   "version": "3.13.6"
  }
 },
 "nbformat": 4,
 "nbformat_minor": 5
}
